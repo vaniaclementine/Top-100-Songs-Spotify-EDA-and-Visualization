{
 "cells": [
  {
   "cell_type": "markdown",
   "id": "2263f919",
   "metadata": {},
   "source": [
    "# Import Dataset and Libraries"
   ]
  },
  {
   "cell_type": "code",
   "execution_count": null,
   "id": "545e6278",
   "metadata": {},
   "outputs": [],
   "source": [
    "!pip install kaggle"
   ]
  },
  {
   "cell_type": "code",
   "execution_count": 4,
   "id": "bccbb597",
   "metadata": {},
   "outputs": [
    {
     "name": "stdout",
     "output_type": "stream",
     "text": [
      "ref                                         title                                size  lastUpdated          downloadCount  voteCount  usabilityRating  \n",
      "------------------------------------------  ----------------------------------  -----  -------------------  -------------  ---------  ---------------  \n",
      "muhmores/spotify-top-100-songs-of-20152019  Spotify Top 100 Songs of 2010-2019  139KB  2022-04-09 06:35:36           8067        154  0.88235295       \n"
     ]
    }
   ],
   "source": [
    "!kaggle datasets list -s \"Spotify Top 100 Songs of 2010-2019\""
   ]
  },
  {
   "cell_type": "code",
   "execution_count": 5,
   "id": "34ca46ab",
   "metadata": {
    "scrolled": true
   },
   "outputs": [
    {
     "name": "stdout",
     "output_type": "stream",
     "text": [
      "Downloading spotify-top-100-songs-of-20152019.zip to C:\\Users\\Vania Clementine\\Documents\\Kulyeah\\Sems 4\\Assignments\\ML\n",
      "\n"
     ]
    },
    {
     "name": "stderr",
     "output_type": "stream",
     "text": [
      "\n",
      "  0%|          | 0.00/139k [00:00<?, ?B/s]\n",
      "100%|##########| 139k/139k [00:00<00:00, 1.70MB/s]\n"
     ]
    }
   ],
   "source": [
    "!kaggle datasets download muhmores/spotify-top-100-songs-of-20152019"
   ]
  },
  {
   "cell_type": "code",
   "execution_count": 1,
   "id": "b46c62d0",
   "metadata": {},
   "outputs": [],
   "source": [
    "import pandas as pd\n",
    "import numpy as np\n",
    "import seaborn as sns\n",
    "import matplotlib.pyplot as plt\n",
    "import os"
   ]
  },
  {
   "cell_type": "markdown",
   "id": "f0dc6f95",
   "metadata": {},
   "source": [
    "# Read Dataset"
   ]
  },
  {
   "cell_type": "code",
   "execution_count": 2,
   "id": "1732f97f",
   "metadata": {},
   "outputs": [],
   "source": [
    "dataset = \"Spotify 2010 - 2019 Top 100.csv\"\n",
    "df = pd.read_csv(dataset)"
   ]
  },
  {
   "cell_type": "code",
   "execution_count": 3,
   "id": "2c6f9126",
   "metadata": {
    "scrolled": true
   },
   "outputs": [
    {
     "data": {
      "text/html": [
       "<div>\n",
       "<style scoped>\n",
       "    .dataframe tbody tr th:only-of-type {\n",
       "        vertical-align: middle;\n",
       "    }\n",
       "\n",
       "    .dataframe tbody tr th {\n",
       "        vertical-align: top;\n",
       "    }\n",
       "\n",
       "    .dataframe thead th {\n",
       "        text-align: right;\n",
       "    }\n",
       "</style>\n",
       "<table border=\"1\" class=\"dataframe\">\n",
       "  <thead>\n",
       "    <tr style=\"text-align: right;\">\n",
       "      <th></th>\n",
       "      <th>title</th>\n",
       "      <th>artist</th>\n",
       "      <th>top genre</th>\n",
       "      <th>year released</th>\n",
       "      <th>added</th>\n",
       "      <th>bpm</th>\n",
       "      <th>nrgy</th>\n",
       "      <th>dnce</th>\n",
       "      <th>dB</th>\n",
       "      <th>live</th>\n",
       "      <th>val</th>\n",
       "      <th>dur</th>\n",
       "      <th>acous</th>\n",
       "      <th>spch</th>\n",
       "      <th>pop</th>\n",
       "      <th>top year</th>\n",
       "      <th>artist type</th>\n",
       "    </tr>\n",
       "  </thead>\n",
       "  <tbody>\n",
       "    <tr>\n",
       "      <th>0</th>\n",
       "      <td>STARSTRUKK (feat. Katy Perry)</td>\n",
       "      <td>3OH!3</td>\n",
       "      <td>dance pop</td>\n",
       "      <td>2009.0</td>\n",
       "      <td>2022‑02‑17</td>\n",
       "      <td>140.0</td>\n",
       "      <td>81.0</td>\n",
       "      <td>61.0</td>\n",
       "      <td>-6.0</td>\n",
       "      <td>23.0</td>\n",
       "      <td>23.0</td>\n",
       "      <td>203.0</td>\n",
       "      <td>0.0</td>\n",
       "      <td>6.0</td>\n",
       "      <td>70.0</td>\n",
       "      <td>2010.0</td>\n",
       "      <td>Duo</td>\n",
       "    </tr>\n",
       "    <tr>\n",
       "      <th>1</th>\n",
       "      <td>My First Kiss (feat. Ke$ha)</td>\n",
       "      <td>3OH!3</td>\n",
       "      <td>dance pop</td>\n",
       "      <td>2010.0</td>\n",
       "      <td>2022‑02‑17</td>\n",
       "      <td>138.0</td>\n",
       "      <td>89.0</td>\n",
       "      <td>68.0</td>\n",
       "      <td>-4.0</td>\n",
       "      <td>36.0</td>\n",
       "      <td>83.0</td>\n",
       "      <td>192.0</td>\n",
       "      <td>1.0</td>\n",
       "      <td>8.0</td>\n",
       "      <td>68.0</td>\n",
       "      <td>2010.0</td>\n",
       "      <td>Duo</td>\n",
       "    </tr>\n",
       "    <tr>\n",
       "      <th>2</th>\n",
       "      <td>I Need A Dollar</td>\n",
       "      <td>Aloe Blacc</td>\n",
       "      <td>pop soul</td>\n",
       "      <td>2010.0</td>\n",
       "      <td>2022‑02‑17</td>\n",
       "      <td>95.0</td>\n",
       "      <td>48.0</td>\n",
       "      <td>84.0</td>\n",
       "      <td>-7.0</td>\n",
       "      <td>9.0</td>\n",
       "      <td>96.0</td>\n",
       "      <td>243.0</td>\n",
       "      <td>20.0</td>\n",
       "      <td>3.0</td>\n",
       "      <td>72.0</td>\n",
       "      <td>2010.0</td>\n",
       "      <td>Solo</td>\n",
       "    </tr>\n",
       "    <tr>\n",
       "      <th>3</th>\n",
       "      <td>Airplanes (feat. Hayley Williams of Paramore)</td>\n",
       "      <td>B.o.B</td>\n",
       "      <td>atl hip hop</td>\n",
       "      <td>2010.0</td>\n",
       "      <td>2022‑02‑17</td>\n",
       "      <td>93.0</td>\n",
       "      <td>87.0</td>\n",
       "      <td>66.0</td>\n",
       "      <td>-4.0</td>\n",
       "      <td>4.0</td>\n",
       "      <td>38.0</td>\n",
       "      <td>180.0</td>\n",
       "      <td>11.0</td>\n",
       "      <td>12.0</td>\n",
       "      <td>80.0</td>\n",
       "      <td>2010.0</td>\n",
       "      <td>Solo</td>\n",
       "    </tr>\n",
       "    <tr>\n",
       "      <th>4</th>\n",
       "      <td>Nothin' on You (feat. Bruno Mars)</td>\n",
       "      <td>B.o.B</td>\n",
       "      <td>atl hip hop</td>\n",
       "      <td>2010.0</td>\n",
       "      <td>2022‑02‑17</td>\n",
       "      <td>104.0</td>\n",
       "      <td>85.0</td>\n",
       "      <td>69.0</td>\n",
       "      <td>-6.0</td>\n",
       "      <td>9.0</td>\n",
       "      <td>74.0</td>\n",
       "      <td>268.0</td>\n",
       "      <td>39.0</td>\n",
       "      <td>5.0</td>\n",
       "      <td>79.0</td>\n",
       "      <td>2010.0</td>\n",
       "      <td>Solo</td>\n",
       "    </tr>\n",
       "    <tr>\n",
       "      <th>5</th>\n",
       "      <td>Magic (feat. Rivers Cuomo)</td>\n",
       "      <td>B.o.B</td>\n",
       "      <td>atl hip hop</td>\n",
       "      <td>2010.0</td>\n",
       "      <td>2022‑02‑17</td>\n",
       "      <td>82.0</td>\n",
       "      <td>93.0</td>\n",
       "      <td>55.0</td>\n",
       "      <td>-4.0</td>\n",
       "      <td>35.0</td>\n",
       "      <td>79.0</td>\n",
       "      <td>196.0</td>\n",
       "      <td>1.0</td>\n",
       "      <td>34.0</td>\n",
       "      <td>71.0</td>\n",
       "      <td>2010.0</td>\n",
       "      <td>Solo</td>\n",
       "    </tr>\n",
       "    <tr>\n",
       "      <th>6</th>\n",
       "      <td>The Time (Dirty Bit)</td>\n",
       "      <td>Black Eyed Peas</td>\n",
       "      <td>dance pop</td>\n",
       "      <td>2010.0</td>\n",
       "      <td>2022‑02‑17</td>\n",
       "      <td>128.0</td>\n",
       "      <td>81.0</td>\n",
       "      <td>82.0</td>\n",
       "      <td>-8.0</td>\n",
       "      <td>60.0</td>\n",
       "      <td>44.0</td>\n",
       "      <td>308.0</td>\n",
       "      <td>7.0</td>\n",
       "      <td>7.0</td>\n",
       "      <td>75.0</td>\n",
       "      <td>2010.0</td>\n",
       "      <td>Band/Group</td>\n",
       "    </tr>\n",
       "    <tr>\n",
       "      <th>7</th>\n",
       "      <td>Imma Be</td>\n",
       "      <td>Black Eyed Peas</td>\n",
       "      <td>dance pop</td>\n",
       "      <td>2009.0</td>\n",
       "      <td>2022‑02‑17</td>\n",
       "      <td>92.0</td>\n",
       "      <td>52.0</td>\n",
       "      <td>60.0</td>\n",
       "      <td>-7.0</td>\n",
       "      <td>31.0</td>\n",
       "      <td>41.0</td>\n",
       "      <td>258.0</td>\n",
       "      <td>18.0</td>\n",
       "      <td>37.0</td>\n",
       "      <td>71.0</td>\n",
       "      <td>2010.0</td>\n",
       "      <td>Band/Group</td>\n",
       "    </tr>\n",
       "    <tr>\n",
       "      <th>8</th>\n",
       "      <td>Talking to the Moon</td>\n",
       "      <td>Bruno Mars</td>\n",
       "      <td>dance pop</td>\n",
       "      <td>2010.0</td>\n",
       "      <td>2022‑02‑17</td>\n",
       "      <td>146.0</td>\n",
       "      <td>59.0</td>\n",
       "      <td>50.0</td>\n",
       "      <td>-5.0</td>\n",
       "      <td>11.0</td>\n",
       "      <td>8.0</td>\n",
       "      <td>218.0</td>\n",
       "      <td>51.0</td>\n",
       "      <td>3.0</td>\n",
       "      <td>87.0</td>\n",
       "      <td>2010.0</td>\n",
       "      <td>Solo</td>\n",
       "    </tr>\n",
       "    <tr>\n",
       "      <th>9</th>\n",
       "      <td>Just the Way You Are</td>\n",
       "      <td>Bruno Mars</td>\n",
       "      <td>dance pop</td>\n",
       "      <td>2010.0</td>\n",
       "      <td>2022‑02‑17</td>\n",
       "      <td>109.0</td>\n",
       "      <td>84.0</td>\n",
       "      <td>64.0</td>\n",
       "      <td>-5.0</td>\n",
       "      <td>6.0</td>\n",
       "      <td>42.0</td>\n",
       "      <td>221.0</td>\n",
       "      <td>1.0</td>\n",
       "      <td>4.0</td>\n",
       "      <td>86.0</td>\n",
       "      <td>2010.0</td>\n",
       "      <td>Solo</td>\n",
       "    </tr>\n",
       "  </tbody>\n",
       "</table>\n",
       "</div>"
      ],
      "text/plain": [
       "                                           title           artist  \\\n",
       "0                  STARSTRUKK (feat. Katy Perry)            3OH!3   \n",
       "1                    My First Kiss (feat. Ke$ha)            3OH!3   \n",
       "2                                I Need A Dollar       Aloe Blacc   \n",
       "3  Airplanes (feat. Hayley Williams of Paramore)            B.o.B   \n",
       "4              Nothin' on You (feat. Bruno Mars)            B.o.B   \n",
       "5                     Magic (feat. Rivers Cuomo)            B.o.B   \n",
       "6                           The Time (Dirty Bit)  Black Eyed Peas   \n",
       "7                                        Imma Be  Black Eyed Peas   \n",
       "8                            Talking to the Moon       Bruno Mars   \n",
       "9                           Just the Way You Are       Bruno Mars   \n",
       "\n",
       "     top genre  year released       added    bpm  nrgy  dnce   dB  live   val  \\\n",
       "0    dance pop         2009.0  2022‑02‑17  140.0  81.0  61.0 -6.0  23.0  23.0   \n",
       "1    dance pop         2010.0  2022‑02‑17  138.0  89.0  68.0 -4.0  36.0  83.0   \n",
       "2     pop soul         2010.0  2022‑02‑17   95.0  48.0  84.0 -7.0   9.0  96.0   \n",
       "3  atl hip hop         2010.0  2022‑02‑17   93.0  87.0  66.0 -4.0   4.0  38.0   \n",
       "4  atl hip hop         2010.0  2022‑02‑17  104.0  85.0  69.0 -6.0   9.0  74.0   \n",
       "5  atl hip hop         2010.0  2022‑02‑17   82.0  93.0  55.0 -4.0  35.0  79.0   \n",
       "6    dance pop         2010.0  2022‑02‑17  128.0  81.0  82.0 -8.0  60.0  44.0   \n",
       "7    dance pop         2009.0  2022‑02‑17   92.0  52.0  60.0 -7.0  31.0  41.0   \n",
       "8    dance pop         2010.0  2022‑02‑17  146.0  59.0  50.0 -5.0  11.0   8.0   \n",
       "9    dance pop         2010.0  2022‑02‑17  109.0  84.0  64.0 -5.0   6.0  42.0   \n",
       "\n",
       "     dur  acous  spch   pop  top year artist type  \n",
       "0  203.0    0.0   6.0  70.0    2010.0         Duo  \n",
       "1  192.0    1.0   8.0  68.0    2010.0         Duo  \n",
       "2  243.0   20.0   3.0  72.0    2010.0        Solo  \n",
       "3  180.0   11.0  12.0  80.0    2010.0        Solo  \n",
       "4  268.0   39.0   5.0  79.0    2010.0        Solo  \n",
       "5  196.0    1.0  34.0  71.0    2010.0        Solo  \n",
       "6  308.0    7.0   7.0  75.0    2010.0  Band/Group  \n",
       "7  258.0   18.0  37.0  71.0    2010.0  Band/Group  \n",
       "8  218.0   51.0   3.0  87.0    2010.0        Solo  \n",
       "9  221.0    1.0   4.0  86.0    2010.0        Solo  "
      ]
     },
     "execution_count": 3,
     "metadata": {},
     "output_type": "execute_result"
    }
   ],
   "source": [
    "df.head(10)"
   ]
  },
  {
   "cell_type": "raw",
   "id": "1586cb60",
   "metadata": {},
   "source": [
    "Feature Explanation\n",
    "\n",
    "title = Song's Title\n",
    "artist = Song's artist\n",
    "genre = Genre of song\n",
    "year released = Year the song was released\n",
    "added = Day song was added to Spotify's Top Hits playlist\n",
    "bpm\t= Beats Per Minute - The tempo of the song\n",
    "nrgy = Energy - How energetic the song is\n",
    "dnce = Danceability - How easy it is to dance to the song\n",
    "dB = Decibel - How loud the song is\n",
    "live = How likely the song is a live recording\n",
    "val\t= How positive the mood of the song is\n",
    "dur\t= Duration of the song\n",
    "acous = How acoustic the song is\n",
    "spch = The more the song is focused on spoken word\n",
    "pop\t= Popularity of the song (not a ranking)\n",
    "top year = Year the song was a top hit\n",
    "artist type = Tells if artist is solo, duo, trio, or a band"
   ]
  },
  {
   "cell_type": "markdown",
   "id": "1232d7bc",
   "metadata": {},
   "source": [
    "# Data Cleaning & EDA"
   ]
  },
  {
   "cell_type": "code",
   "execution_count": 4,
   "id": "80400750",
   "metadata": {},
   "outputs": [
    {
     "name": "stdout",
     "output_type": "stream",
     "text": [
      "title             object\n",
      "artist            object\n",
      "top genre         object\n",
      "year released    float64\n",
      "added             object\n",
      "bpm              float64\n",
      "nrgy             float64\n",
      "dnce             float64\n",
      "dB               float64\n",
      "live             float64\n",
      "val              float64\n",
      "dur              float64\n",
      "acous            float64\n",
      "spch             float64\n",
      "pop              float64\n",
      "top year         float64\n",
      "artist type       object\n",
      "dtype: object\n"
     ]
    }
   ],
   "source": [
    "print(df.dtypes)"
   ]
  },
  {
   "cell_type": "code",
   "execution_count": 5,
   "id": "19ec1a0d",
   "metadata": {
    "scrolled": false
   },
   "outputs": [
    {
     "name": "stdout",
     "output_type": "stream",
     "text": [
      "<class 'pandas.core.frame.DataFrame'>\n",
      "RangeIndex: 1003 entries, 0 to 1002\n",
      "Data columns (total 17 columns):\n",
      " #   Column         Non-Null Count  Dtype  \n",
      "---  ------         --------------  -----  \n",
      " 0   title          1000 non-null   object \n",
      " 1   artist         1000 non-null   object \n",
      " 2   top genre      1000 non-null   object \n",
      " 3   year released  1000 non-null   float64\n",
      " 4   added          1000 non-null   object \n",
      " 5   bpm            1000 non-null   float64\n",
      " 6   nrgy           1000 non-null   float64\n",
      " 7   dnce           1000 non-null   float64\n",
      " 8   dB             1000 non-null   float64\n",
      " 9   live           1000 non-null   float64\n",
      " 10  val            1000 non-null   float64\n",
      " 11  dur            1000 non-null   float64\n",
      " 12  acous          1000 non-null   float64\n",
      " 13  spch           1000 non-null   float64\n",
      " 14  pop            1000 non-null   float64\n",
      " 15  top year       1000 non-null   float64\n",
      " 16  artist type    1000 non-null   object \n",
      "dtypes: float64(12), object(5)\n",
      "memory usage: 133.3+ KB\n"
     ]
    }
   ],
   "source": [
    "df.info()"
   ]
  },
  {
   "cell_type": "code",
   "execution_count": 6,
   "id": "a7e96bb4",
   "metadata": {
    "scrolled": true
   },
   "outputs": [
    {
     "name": "stdout",
     "output_type": "stream",
     "text": [
      "Total Number of NaN values:\n",
      "title            3\n",
      "artist           3\n",
      "top genre        3\n",
      "year released    3\n",
      "added            3\n",
      "bpm              3\n",
      "nrgy             3\n",
      "dnce             3\n",
      "dB               3\n",
      "live             3\n",
      "val              3\n",
      "dur              3\n",
      "acous            3\n",
      "spch             3\n",
      "pop              3\n",
      "top year         3\n",
      "artist type      3\n",
      "dtype: int64\n"
     ]
    }
   ],
   "source": [
    "total_nan_values = df.isna().sum()\n",
    "print (\"Total Number of NaN values:\")\n",
    "print(total_nan_values)"
   ]
  },
  {
   "cell_type": "code",
   "execution_count": 7,
   "id": "fd470721",
   "metadata": {},
   "outputs": [
    {
     "data": {
      "text/html": [
       "<div>\n",
       "<style scoped>\n",
       "    .dataframe tbody tr th:only-of-type {\n",
       "        vertical-align: middle;\n",
       "    }\n",
       "\n",
       "    .dataframe tbody tr th {\n",
       "        vertical-align: top;\n",
       "    }\n",
       "\n",
       "    .dataframe thead th {\n",
       "        text-align: right;\n",
       "    }\n",
       "</style>\n",
       "<table border=\"1\" class=\"dataframe\">\n",
       "  <thead>\n",
       "    <tr style=\"text-align: right;\">\n",
       "      <th></th>\n",
       "      <th>title</th>\n",
       "      <th>artist</th>\n",
       "      <th>top genre</th>\n",
       "      <th>year released</th>\n",
       "      <th>added</th>\n",
       "      <th>bpm</th>\n",
       "      <th>nrgy</th>\n",
       "      <th>dnce</th>\n",
       "      <th>dB</th>\n",
       "      <th>live</th>\n",
       "      <th>val</th>\n",
       "      <th>dur</th>\n",
       "      <th>acous</th>\n",
       "      <th>spch</th>\n",
       "      <th>pop</th>\n",
       "      <th>top year</th>\n",
       "      <th>artist type</th>\n",
       "    </tr>\n",
       "  </thead>\n",
       "  <tbody>\n",
       "    <tr>\n",
       "      <th>0</th>\n",
       "      <td>STARSTRUKK (feat. Katy Perry)</td>\n",
       "      <td>3OH!3</td>\n",
       "      <td>dance pop</td>\n",
       "      <td>2009.0</td>\n",
       "      <td>2022‑02‑17</td>\n",
       "      <td>140.0</td>\n",
       "      <td>81.0</td>\n",
       "      <td>61.0</td>\n",
       "      <td>-6.0</td>\n",
       "      <td>23.0</td>\n",
       "      <td>23.0</td>\n",
       "      <td>203.0</td>\n",
       "      <td>0.0</td>\n",
       "      <td>6.0</td>\n",
       "      <td>70.0</td>\n",
       "      <td>2010.0</td>\n",
       "      <td>Duo</td>\n",
       "    </tr>\n",
       "    <tr>\n",
       "      <th>1</th>\n",
       "      <td>My First Kiss (feat. Ke$ha)</td>\n",
       "      <td>3OH!3</td>\n",
       "      <td>dance pop</td>\n",
       "      <td>2010.0</td>\n",
       "      <td>2022‑02‑17</td>\n",
       "      <td>138.0</td>\n",
       "      <td>89.0</td>\n",
       "      <td>68.0</td>\n",
       "      <td>-4.0</td>\n",
       "      <td>36.0</td>\n",
       "      <td>83.0</td>\n",
       "      <td>192.0</td>\n",
       "      <td>1.0</td>\n",
       "      <td>8.0</td>\n",
       "      <td>68.0</td>\n",
       "      <td>2010.0</td>\n",
       "      <td>Duo</td>\n",
       "    </tr>\n",
       "    <tr>\n",
       "      <th>2</th>\n",
       "      <td>I Need A Dollar</td>\n",
       "      <td>Aloe Blacc</td>\n",
       "      <td>pop soul</td>\n",
       "      <td>2010.0</td>\n",
       "      <td>2022‑02‑17</td>\n",
       "      <td>95.0</td>\n",
       "      <td>48.0</td>\n",
       "      <td>84.0</td>\n",
       "      <td>-7.0</td>\n",
       "      <td>9.0</td>\n",
       "      <td>96.0</td>\n",
       "      <td>243.0</td>\n",
       "      <td>20.0</td>\n",
       "      <td>3.0</td>\n",
       "      <td>72.0</td>\n",
       "      <td>2010.0</td>\n",
       "      <td>Solo</td>\n",
       "    </tr>\n",
       "    <tr>\n",
       "      <th>3</th>\n",
       "      <td>Airplanes (feat. Hayley Williams of Paramore)</td>\n",
       "      <td>B.o.B</td>\n",
       "      <td>atl hip hop</td>\n",
       "      <td>2010.0</td>\n",
       "      <td>2022‑02‑17</td>\n",
       "      <td>93.0</td>\n",
       "      <td>87.0</td>\n",
       "      <td>66.0</td>\n",
       "      <td>-4.0</td>\n",
       "      <td>4.0</td>\n",
       "      <td>38.0</td>\n",
       "      <td>180.0</td>\n",
       "      <td>11.0</td>\n",
       "      <td>12.0</td>\n",
       "      <td>80.0</td>\n",
       "      <td>2010.0</td>\n",
       "      <td>Solo</td>\n",
       "    </tr>\n",
       "    <tr>\n",
       "      <th>4</th>\n",
       "      <td>Nothin' on You (feat. Bruno Mars)</td>\n",
       "      <td>B.o.B</td>\n",
       "      <td>atl hip hop</td>\n",
       "      <td>2010.0</td>\n",
       "      <td>2022‑02‑17</td>\n",
       "      <td>104.0</td>\n",
       "      <td>85.0</td>\n",
       "      <td>69.0</td>\n",
       "      <td>-6.0</td>\n",
       "      <td>9.0</td>\n",
       "      <td>74.0</td>\n",
       "      <td>268.0</td>\n",
       "      <td>39.0</td>\n",
       "      <td>5.0</td>\n",
       "      <td>79.0</td>\n",
       "      <td>2010.0</td>\n",
       "      <td>Solo</td>\n",
       "    </tr>\n",
       "    <tr>\n",
       "      <th>...</th>\n",
       "      <td>...</td>\n",
       "      <td>...</td>\n",
       "      <td>...</td>\n",
       "      <td>...</td>\n",
       "      <td>...</td>\n",
       "      <td>...</td>\n",
       "      <td>...</td>\n",
       "      <td>...</td>\n",
       "      <td>...</td>\n",
       "      <td>...</td>\n",
       "      <td>...</td>\n",
       "      <td>...</td>\n",
       "      <td>...</td>\n",
       "      <td>...</td>\n",
       "      <td>...</td>\n",
       "      <td>...</td>\n",
       "      <td>...</td>\n",
       "    </tr>\n",
       "    <tr>\n",
       "      <th>995</th>\n",
       "      <td>SICKO MODE</td>\n",
       "      <td>Travis Scott</td>\n",
       "      <td>hip hop</td>\n",
       "      <td>2018.0</td>\n",
       "      <td>2020‑06‑22</td>\n",
       "      <td>155.0</td>\n",
       "      <td>73.0</td>\n",
       "      <td>83.0</td>\n",
       "      <td>-4.0</td>\n",
       "      <td>12.0</td>\n",
       "      <td>45.0</td>\n",
       "      <td>313.0</td>\n",
       "      <td>1.0</td>\n",
       "      <td>22.0</td>\n",
       "      <td>86.0</td>\n",
       "      <td>2019.0</td>\n",
       "      <td>Solo</td>\n",
       "    </tr>\n",
       "    <tr>\n",
       "      <th>996</th>\n",
       "      <td>EARFQUAKE</td>\n",
       "      <td>Tyler, The Creator</td>\n",
       "      <td>hip hop</td>\n",
       "      <td>2019.0</td>\n",
       "      <td>2020‑06‑22</td>\n",
       "      <td>80.0</td>\n",
       "      <td>50.0</td>\n",
       "      <td>55.0</td>\n",
       "      <td>-9.0</td>\n",
       "      <td>80.0</td>\n",
       "      <td>41.0</td>\n",
       "      <td>190.0</td>\n",
       "      <td>23.0</td>\n",
       "      <td>7.0</td>\n",
       "      <td>85.0</td>\n",
       "      <td>2019.0</td>\n",
       "      <td>Solo</td>\n",
       "    </tr>\n",
       "    <tr>\n",
       "      <th>997</th>\n",
       "      <td>Boasty (feat. Idris Elba)</td>\n",
       "      <td>Wiley</td>\n",
       "      <td>grime</td>\n",
       "      <td>2019.0</td>\n",
       "      <td>2020‑06‑22</td>\n",
       "      <td>103.0</td>\n",
       "      <td>77.0</td>\n",
       "      <td>89.0</td>\n",
       "      <td>-5.0</td>\n",
       "      <td>9.0</td>\n",
       "      <td>46.0</td>\n",
       "      <td>177.0</td>\n",
       "      <td>1.0</td>\n",
       "      <td>7.0</td>\n",
       "      <td>68.0</td>\n",
       "      <td>2019.0</td>\n",
       "      <td>Solo</td>\n",
       "    </tr>\n",
       "    <tr>\n",
       "      <th>998</th>\n",
       "      <td>Strike a Pose (feat. Aitch)</td>\n",
       "      <td>Young T &amp; Bugsey</td>\n",
       "      <td>afroswing</td>\n",
       "      <td>2019.0</td>\n",
       "      <td>2020‑08‑20</td>\n",
       "      <td>138.0</td>\n",
       "      <td>58.0</td>\n",
       "      <td>53.0</td>\n",
       "      <td>-6.0</td>\n",
       "      <td>10.0</td>\n",
       "      <td>59.0</td>\n",
       "      <td>214.0</td>\n",
       "      <td>1.0</td>\n",
       "      <td>10.0</td>\n",
       "      <td>67.0</td>\n",
       "      <td>2019.0</td>\n",
       "      <td>Duo</td>\n",
       "    </tr>\n",
       "    <tr>\n",
       "      <th>999</th>\n",
       "      <td>The London (feat. J. Cole &amp; Travis Scott)</td>\n",
       "      <td>Young Thug</td>\n",
       "      <td>atl hip hop</td>\n",
       "      <td>2019.0</td>\n",
       "      <td>2020‑06‑22</td>\n",
       "      <td>98.0</td>\n",
       "      <td>59.0</td>\n",
       "      <td>80.0</td>\n",
       "      <td>-7.0</td>\n",
       "      <td>13.0</td>\n",
       "      <td>18.0</td>\n",
       "      <td>200.0</td>\n",
       "      <td>2.0</td>\n",
       "      <td>15.0</td>\n",
       "      <td>75.0</td>\n",
       "      <td>2019.0</td>\n",
       "      <td>Solo</td>\n",
       "    </tr>\n",
       "  </tbody>\n",
       "</table>\n",
       "<p>1000 rows × 17 columns</p>\n",
       "</div>"
      ],
      "text/plain": [
       "                                             title              artist  \\\n",
       "0                    STARSTRUKK (feat. Katy Perry)               3OH!3   \n",
       "1                      My First Kiss (feat. Ke$ha)               3OH!3   \n",
       "2                                  I Need A Dollar          Aloe Blacc   \n",
       "3    Airplanes (feat. Hayley Williams of Paramore)               B.o.B   \n",
       "4                Nothin' on You (feat. Bruno Mars)               B.o.B   \n",
       "..                                             ...                 ...   \n",
       "995                                     SICKO MODE        Travis Scott   \n",
       "996                                      EARFQUAKE  Tyler, The Creator   \n",
       "997                      Boasty (feat. Idris Elba)               Wiley   \n",
       "998                    Strike a Pose (feat. Aitch)    Young T & Bugsey   \n",
       "999      The London (feat. J. Cole & Travis Scott)          Young Thug   \n",
       "\n",
       "       top genre  year released       added    bpm  nrgy  dnce   dB  live  \\\n",
       "0      dance pop         2009.0  2022‑02‑17  140.0  81.0  61.0 -6.0  23.0   \n",
       "1      dance pop         2010.0  2022‑02‑17  138.0  89.0  68.0 -4.0  36.0   \n",
       "2       pop soul         2010.0  2022‑02‑17   95.0  48.0  84.0 -7.0   9.0   \n",
       "3    atl hip hop         2010.0  2022‑02‑17   93.0  87.0  66.0 -4.0   4.0   \n",
       "4    atl hip hop         2010.0  2022‑02‑17  104.0  85.0  69.0 -6.0   9.0   \n",
       "..           ...            ...         ...    ...   ...   ...  ...   ...   \n",
       "995      hip hop         2018.0  2020‑06‑22  155.0  73.0  83.0 -4.0  12.0   \n",
       "996      hip hop         2019.0  2020‑06‑22   80.0  50.0  55.0 -9.0  80.0   \n",
       "997        grime         2019.0  2020‑06‑22  103.0  77.0  89.0 -5.0   9.0   \n",
       "998    afroswing         2019.0  2020‑08‑20  138.0  58.0  53.0 -6.0  10.0   \n",
       "999  atl hip hop         2019.0  2020‑06‑22   98.0  59.0  80.0 -7.0  13.0   \n",
       "\n",
       "      val    dur  acous  spch   pop  top year artist type  \n",
       "0    23.0  203.0    0.0   6.0  70.0    2010.0         Duo  \n",
       "1    83.0  192.0    1.0   8.0  68.0    2010.0         Duo  \n",
       "2    96.0  243.0   20.0   3.0  72.0    2010.0        Solo  \n",
       "3    38.0  180.0   11.0  12.0  80.0    2010.0        Solo  \n",
       "4    74.0  268.0   39.0   5.0  79.0    2010.0        Solo  \n",
       "..    ...    ...    ...   ...   ...       ...         ...  \n",
       "995  45.0  313.0    1.0  22.0  86.0    2019.0        Solo  \n",
       "996  41.0  190.0   23.0   7.0  85.0    2019.0        Solo  \n",
       "997  46.0  177.0    1.0   7.0  68.0    2019.0        Solo  \n",
       "998  59.0  214.0    1.0  10.0  67.0    2019.0         Duo  \n",
       "999  18.0  200.0    2.0  15.0  75.0    2019.0        Solo  \n",
       "\n",
       "[1000 rows x 17 columns]"
      ]
     },
     "execution_count": 7,
     "metadata": {},
     "output_type": "execute_result"
    }
   ],
   "source": [
    "df = df.dropna(axis=0)\n",
    "df"
   ]
  },
  {
   "cell_type": "code",
   "execution_count": 8,
   "id": "52cfb917",
   "metadata": {},
   "outputs": [
    {
     "data": {
      "text/plain": [
       "(1000, 17)"
      ]
     },
     "execution_count": 8,
     "metadata": {},
     "output_type": "execute_result"
    }
   ],
   "source": [
    "df.shape"
   ]
  },
  {
   "cell_type": "raw",
   "id": "b26e2397",
   "metadata": {},
   "source": [
    "Convert year data type from float to int b"
   ]
  },
  {
   "cell_type": "code",
   "execution_count": 9,
   "id": "9b8669b9",
   "metadata": {},
   "outputs": [],
   "source": [
    "df['year released'] = df['year released'].astype('Int64')\n",
    "df['top year'] = df['top year'].astype('Int64')"
   ]
  },
  {
   "cell_type": "markdown",
   "id": "cf6c8a4b",
   "metadata": {},
   "source": [
    "# Group the Top 100 Songs based on the year when the song was released"
   ]
  },
  {
   "cell_type": "code",
   "execution_count": 10,
   "id": "674a591e",
   "metadata": {
    "scrolled": true
   },
   "outputs": [
    {
     "data": {
      "text/plain": [
       "year released\n",
       "1975      1\n",
       "2009     24\n",
       "2010     94\n",
       "2011     93\n",
       "2012    109\n",
       "2013     86\n",
       "2014    101\n",
       "2015     99\n",
       "2016     86\n",
       "2017     99\n",
       "2018    112\n",
       "2019     87\n",
       "2020      6\n",
       "2021      3\n",
       "Name: year released, dtype: int64"
      ]
     },
     "execution_count": 10,
     "metadata": {},
     "output_type": "execute_result"
    }
   ],
   "source": [
    "df.groupby('year released')['year released'].count()"
   ]
  },
  {
   "cell_type": "markdown",
   "id": "b2ed2036",
   "metadata": {},
   "source": [
    "Most hit songs are from 2018 and least from 1975"
   ]
  },
  {
   "cell_type": "markdown",
   "id": "3ddcdea4",
   "metadata": {},
   "source": [
    "# Top 5 Artist"
   ]
  },
  {
   "cell_type": "code",
   "execution_count": 11,
   "id": "3da20bf2",
   "metadata": {},
   "outputs": [
    {
     "data": {
      "text/html": [
       "<div>\n",
       "<style scoped>\n",
       "    .dataframe tbody tr th:only-of-type {\n",
       "        vertical-align: middle;\n",
       "    }\n",
       "\n",
       "    .dataframe tbody tr th {\n",
       "        vertical-align: top;\n",
       "    }\n",
       "\n",
       "    .dataframe thead th {\n",
       "        text-align: right;\n",
       "    }\n",
       "</style>\n",
       "<table border=\"1\" class=\"dataframe\">\n",
       "  <thead>\n",
       "    <tr style=\"text-align: right;\">\n",
       "      <th></th>\n",
       "      <th>occurence</th>\n",
       "    </tr>\n",
       "    <tr>\n",
       "      <th>artist</th>\n",
       "      <th></th>\n",
       "    </tr>\n",
       "  </thead>\n",
       "  <tbody>\n",
       "    <tr>\n",
       "      <th>2 Chainz</th>\n",
       "      <td>2</td>\n",
       "    </tr>\n",
       "    <tr>\n",
       "      <th>21 Savage</th>\n",
       "      <td>2</td>\n",
       "    </tr>\n",
       "    <tr>\n",
       "      <th>3OH!3</th>\n",
       "      <td>2</td>\n",
       "    </tr>\n",
       "    <tr>\n",
       "      <th>5 Seconds of Summer</th>\n",
       "      <td>4</td>\n",
       "    </tr>\n",
       "    <tr>\n",
       "      <th>6ix9ine</th>\n",
       "      <td>2</td>\n",
       "    </tr>\n",
       "    <tr>\n",
       "      <th>...</th>\n",
       "      <td>...</td>\n",
       "    </tr>\n",
       "    <tr>\n",
       "      <th>fun.</th>\n",
       "      <td>2</td>\n",
       "    </tr>\n",
       "    <tr>\n",
       "      <th>girl in red</th>\n",
       "      <td>1</td>\n",
       "    </tr>\n",
       "    <tr>\n",
       "      <th>iann dior</th>\n",
       "      <td>2</td>\n",
       "    </tr>\n",
       "    <tr>\n",
       "      <th>lovelytheband</th>\n",
       "      <td>1</td>\n",
       "    </tr>\n",
       "    <tr>\n",
       "      <th>will.i.am</th>\n",
       "      <td>2</td>\n",
       "    </tr>\n",
       "  </tbody>\n",
       "</table>\n",
       "<p>444 rows × 1 columns</p>\n",
       "</div>"
      ],
      "text/plain": [
       "                     occurence\n",
       "artist                        \n",
       "2 Chainz                     2\n",
       "21 Savage                    2\n",
       "3OH!3                        2\n",
       "5 Seconds of Summer          4\n",
       "6ix9ine                      2\n",
       "...                        ...\n",
       "fun.                         2\n",
       "girl in red                  1\n",
       "iann dior                    2\n",
       "lovelytheband                1\n",
       "will.i.am                    2\n",
       "\n",
       "[444 rows x 1 columns]"
      ]
     },
     "execution_count": 11,
     "metadata": {},
     "output_type": "execute_result"
    }
   ],
   "source": [
    "artist_with_most_hit_songs = pd.DataFrame()\n",
    "artist_with_most_hit_songs['occurence'] = df.groupby('artist')['artist'].count()\n",
    "artist_with_most_hit_songs"
   ]
  },
  {
   "cell_type": "code",
   "execution_count": 12,
   "id": "bc91308c",
   "metadata": {
    "scrolled": true
   },
   "outputs": [
    {
     "data": {
      "image/png": "[encoded data removed]",
      "text/plain": [
       "<Figure size 1152x360 with 1 Axes>"
      ]
     },
     "metadata": {
      "needs_background": "light"
     },
     "output_type": "display_data"
    }
   ],
   "source": [
    "index=df['artist'].value_counts()[df['artist'].value_counts()>5].index.tolist()\n",
    "val=df['artist'].value_counts()[df['artist'].value_counts()>5].values.tolist()\n",
    "plt.rcParams['figure.figsize']=16,5\n",
    "clrs = ['grey' if (x < val[4]) else 'red' for x in val ]\n",
    "ax= sns.barplot(x=index, y=val, palette=clrs) \n",
    "plt.xticks(rotation=90)\n",
    "for i in ax.containers:\n",
    "    ax.bar_label(i)\n",
    "plt.title('Top Artists',fontsize=15, fontweight='bold');\n",
    "plt.show()"
   ]
  },
  {
   "cell_type": "code",
   "execution_count": 13,
   "id": "bb9bf8e7",
   "metadata": {},
   "outputs": [
    {
     "data": {
      "text/html": [
       "<div>\n",
       "<style scoped>\n",
       "    .dataframe tbody tr th:only-of-type {\n",
       "        vertical-align: middle;\n",
       "    }\n",
       "\n",
       "    .dataframe tbody tr th {\n",
       "        vertical-align: top;\n",
       "    }\n",
       "\n",
       "    .dataframe thead th {\n",
       "        text-align: right;\n",
       "    }\n",
       "</style>\n",
       "<table border=\"1\" class=\"dataframe\">\n",
       "  <thead>\n",
       "    <tr style=\"text-align: right;\">\n",
       "      <th></th>\n",
       "      <th>occurence</th>\n",
       "    </tr>\n",
       "    <tr>\n",
       "      <th>artist</th>\n",
       "      <th></th>\n",
       "    </tr>\n",
       "  </thead>\n",
       "  <tbody>\n",
       "    <tr>\n",
       "      <th>Taylor Swift</th>\n",
       "      <td>21</td>\n",
       "    </tr>\n",
       "    <tr>\n",
       "      <th>Calvin Harris</th>\n",
       "      <td>18</td>\n",
       "    </tr>\n",
       "    <tr>\n",
       "      <th>Drake</th>\n",
       "      <td>18</td>\n",
       "    </tr>\n",
       "    <tr>\n",
       "      <th>Rihanna</th>\n",
       "      <td>14</td>\n",
       "    </tr>\n",
       "    <tr>\n",
       "      <th>Ariana Grande</th>\n",
       "      <td>14</td>\n",
       "    </tr>\n",
       "  </tbody>\n",
       "</table>\n",
       "</div>"
      ],
      "text/plain": [
       "               occurence\n",
       "artist                  \n",
       "Taylor Swift          21\n",
       "Calvin Harris         18\n",
       "Drake                 18\n",
       "Rihanna               14\n",
       "Ariana Grande         14"
      ]
     },
     "execution_count": 13,
     "metadata": {},
     "output_type": "execute_result"
    }
   ],
   "source": [
    "df_top_5_artist = artist_with_most_hit_songs.sort_values('occurence',ascending=False)\n",
    "df_top_5_artist.head(5)"
   ]
  },
  {
   "cell_type": "markdown",
   "id": "f38a9da7",
   "metadata": {},
   "source": [
    "Top 5 Artists in Top 100 Spotify Songs are Taylor Swift, Calvin Harris, Drake, Rihanna, and Ariana Grande"
   ]
  },
  {
   "cell_type": "markdown",
   "id": "7dee1eca",
   "metadata": {},
   "source": [
    "# Top 5 Genre"
   ]
  },
  {
   "cell_type": "code",
   "execution_count": 14,
   "id": "620b3c25",
   "metadata": {},
   "outputs": [
    {
     "data": {
      "text/plain": [
       "top genre\n",
       "dance pop      361\n",
       "pop             57\n",
       "atl hip hop     39\n",
       "art pop         37\n",
       "hip hop         21\n",
       "Name: top genre, dtype: int64"
      ]
     },
     "execution_count": 14,
     "metadata": {},
     "output_type": "execute_result"
    }
   ],
   "source": [
    "top_genre = df.groupby('top genre')['top genre'].count().sort_values(ascending=False)\n",
    "top_genre.head(5)"
   ]
  },
  {
   "cell_type": "markdown",
   "id": "da802d34",
   "metadata": {},
   "source": [
    "Top 5 genre are Dance Pop, Pop, Atl Hip Hop, Art Pop, and Hip Hop"
   ]
  },
  {
   "cell_type": "code",
   "execution_count": 15,
   "id": "44c02172",
   "metadata": {
    "scrolled": true
   },
   "outputs": [
    {
     "data": {
      "image/png": "[encoded data removed]",
      "text/plain": [
       "<Figure size 720x576 with 1 Axes>"
      ]
     },
     "metadata": {
      "needs_background": "light"
     },
     "output_type": "display_data"
    }
   ],
   "source": [
    "plt.figure(figsize=(10,8))\n",
    "plt.title('Top Genre',fontsize=15, fontweight='bold')\n",
    "ax = sns.countplot(x=\"top genre\", data=df, palette=\"BuPu_r\", order=df['top genre'].value_counts().index[0:15])\n",
    "plt.xticks(rotation=45);"
   ]
  },
  {
   "cell_type": "markdown",
   "id": "7124c9c4",
   "metadata": {},
   "source": [
    "# Most popular genres of the decade"
   ]
  },
  {
   "cell_type": "code",
   "execution_count": 16,
   "id": "09beb790",
   "metadata": {},
   "outputs": [
    {
     "data": {
      "text/html": [
       "<div>\n",
       "<style scoped>\n",
       "    .dataframe tbody tr th:only-of-type {\n",
       "        vertical-align: middle;\n",
       "    }\n",
       "\n",
       "    .dataframe tbody tr th {\n",
       "        vertical-align: top;\n",
       "    }\n",
       "\n",
       "    .dataframe thead th {\n",
       "        text-align: right;\n",
       "    }\n",
       "</style>\n",
       "<table border=\"1\" class=\"dataframe\">\n",
       "  <thead>\n",
       "    <tr style=\"text-align: right;\">\n",
       "      <th></th>\n",
       "      <th>dance pop</th>\n",
       "      <th>atl hip hop</th>\n",
       "      <th>barbadian pop</th>\n",
       "      <th>contemporary country</th>\n",
       "      <th>pop</th>\n",
       "      <th>art pop</th>\n",
       "      <th>folk-pop</th>\n",
       "      <th>edm</th>\n",
       "      <th>alt z</th>\n",
       "      <th>modern alternative rock</th>\n",
       "      <th>canadian hip hop</th>\n",
       "      <th>melodic rap</th>\n",
       "    </tr>\n",
       "  </thead>\n",
       "  <tbody>\n",
       "    <tr>\n",
       "      <th>2010</th>\n",
       "      <td>42.0</td>\n",
       "      <td>11.0</td>\n",
       "      <td>5.0</td>\n",
       "      <td>NaN</td>\n",
       "      <td>NaN</td>\n",
       "      <td>NaN</td>\n",
       "      <td>NaN</td>\n",
       "      <td>NaN</td>\n",
       "      <td>NaN</td>\n",
       "      <td>NaN</td>\n",
       "      <td>NaN</td>\n",
       "      <td>NaN</td>\n",
       "    </tr>\n",
       "    <tr>\n",
       "      <th>2011</th>\n",
       "      <td>45.0</td>\n",
       "      <td>NaN</td>\n",
       "      <td>NaN</td>\n",
       "      <td>5.0</td>\n",
       "      <td>4.0</td>\n",
       "      <td>NaN</td>\n",
       "      <td>NaN</td>\n",
       "      <td>NaN</td>\n",
       "      <td>NaN</td>\n",
       "      <td>NaN</td>\n",
       "      <td>NaN</td>\n",
       "      <td>NaN</td>\n",
       "    </tr>\n",
       "    <tr>\n",
       "      <th>2012</th>\n",
       "      <td>37.0</td>\n",
       "      <td>NaN</td>\n",
       "      <td>NaN</td>\n",
       "      <td>NaN</td>\n",
       "      <td>4.0</td>\n",
       "      <td>6.0</td>\n",
       "      <td>NaN</td>\n",
       "      <td>NaN</td>\n",
       "      <td>NaN</td>\n",
       "      <td>NaN</td>\n",
       "      <td>NaN</td>\n",
       "      <td>NaN</td>\n",
       "    </tr>\n",
       "    <tr>\n",
       "      <th>2013</th>\n",
       "      <td>37.0</td>\n",
       "      <td>NaN</td>\n",
       "      <td>NaN</td>\n",
       "      <td>NaN</td>\n",
       "      <td>4.0</td>\n",
       "      <td>NaN</td>\n",
       "      <td>3.0</td>\n",
       "      <td>NaN</td>\n",
       "      <td>NaN</td>\n",
       "      <td>NaN</td>\n",
       "      <td>NaN</td>\n",
       "      <td>NaN</td>\n",
       "    </tr>\n",
       "    <tr>\n",
       "      <th>2014</th>\n",
       "      <td>39.0</td>\n",
       "      <td>NaN</td>\n",
       "      <td>NaN</td>\n",
       "      <td>NaN</td>\n",
       "      <td>9.0</td>\n",
       "      <td>4.0</td>\n",
       "      <td>NaN</td>\n",
       "      <td>NaN</td>\n",
       "      <td>NaN</td>\n",
       "      <td>NaN</td>\n",
       "      <td>NaN</td>\n",
       "      <td>NaN</td>\n",
       "    </tr>\n",
       "    <tr>\n",
       "      <th>2015</th>\n",
       "      <td>38.0</td>\n",
       "      <td>NaN</td>\n",
       "      <td>NaN</td>\n",
       "      <td>NaN</td>\n",
       "      <td>5.0</td>\n",
       "      <td>NaN</td>\n",
       "      <td>NaN</td>\n",
       "      <td>5.0</td>\n",
       "      <td>NaN</td>\n",
       "      <td>NaN</td>\n",
       "      <td>NaN</td>\n",
       "      <td>NaN</td>\n",
       "    </tr>\n",
       "    <tr>\n",
       "      <th>2016</th>\n",
       "      <td>48.0</td>\n",
       "      <td>NaN</td>\n",
       "      <td>NaN</td>\n",
       "      <td>NaN</td>\n",
       "      <td>NaN</td>\n",
       "      <td>NaN</td>\n",
       "      <td>NaN</td>\n",
       "      <td>NaN</td>\n",
       "      <td>6.0</td>\n",
       "      <td>4.0</td>\n",
       "      <td>NaN</td>\n",
       "      <td>NaN</td>\n",
       "    </tr>\n",
       "    <tr>\n",
       "      <th>2017</th>\n",
       "      <td>25.0</td>\n",
       "      <td>8.0</td>\n",
       "      <td>NaN</td>\n",
       "      <td>NaN</td>\n",
       "      <td>10.0</td>\n",
       "      <td>NaN</td>\n",
       "      <td>NaN</td>\n",
       "      <td>NaN</td>\n",
       "      <td>NaN</td>\n",
       "      <td>NaN</td>\n",
       "      <td>NaN</td>\n",
       "      <td>NaN</td>\n",
       "    </tr>\n",
       "    <tr>\n",
       "      <th>2018</th>\n",
       "      <td>28.0</td>\n",
       "      <td>7.0</td>\n",
       "      <td>NaN</td>\n",
       "      <td>NaN</td>\n",
       "      <td>NaN</td>\n",
       "      <td>NaN</td>\n",
       "      <td>NaN</td>\n",
       "      <td>NaN</td>\n",
       "      <td>NaN</td>\n",
       "      <td>NaN</td>\n",
       "      <td>5.0</td>\n",
       "      <td>NaN</td>\n",
       "    </tr>\n",
       "    <tr>\n",
       "      <th>2019</th>\n",
       "      <td>22.0</td>\n",
       "      <td>NaN</td>\n",
       "      <td>NaN</td>\n",
       "      <td>NaN</td>\n",
       "      <td>11.0</td>\n",
       "      <td>NaN</td>\n",
       "      <td>NaN</td>\n",
       "      <td>NaN</td>\n",
       "      <td>NaN</td>\n",
       "      <td>NaN</td>\n",
       "      <td>NaN</td>\n",
       "      <td>6.0</td>\n",
       "    </tr>\n",
       "  </tbody>\n",
       "</table>\n",
       "</div>"
      ],
      "text/plain": [
       "      dance pop  atl hip hop  barbadian pop  contemporary country   pop  \\\n",
       "2010       42.0         11.0            5.0                   NaN   NaN   \n",
       "2011       45.0          NaN            NaN                   5.0   4.0   \n",
       "2012       37.0          NaN            NaN                   NaN   4.0   \n",
       "2013       37.0          NaN            NaN                   NaN   4.0   \n",
       "2014       39.0          NaN            NaN                   NaN   9.0   \n",
       "2015       38.0          NaN            NaN                   NaN   5.0   \n",
       "2016       48.0          NaN            NaN                   NaN   NaN   \n",
       "2017       25.0          8.0            NaN                   NaN  10.0   \n",
       "2018       28.0          7.0            NaN                   NaN   NaN   \n",
       "2019       22.0          NaN            NaN                   NaN  11.0   \n",
       "\n",
       "      art pop  folk-pop  edm  alt z  modern alternative rock  \\\n",
       "2010      NaN       NaN  NaN    NaN                      NaN   \n",
       "2011      NaN       NaN  NaN    NaN                      NaN   \n",
       "2012      6.0       NaN  NaN    NaN                      NaN   \n",
       "2013      NaN       3.0  NaN    NaN                      NaN   \n",
       "2014      4.0       NaN  NaN    NaN                      NaN   \n",
       "2015      NaN       NaN  5.0    NaN                      NaN   \n",
       "2016      NaN       NaN  NaN    6.0                      4.0   \n",
       "2017      NaN       NaN  NaN    NaN                      NaN   \n",
       "2018      NaN       NaN  NaN    NaN                      NaN   \n",
       "2019      NaN       NaN  NaN    NaN                      NaN   \n",
       "\n",
       "      canadian hip hop  melodic rap  \n",
       "2010               NaN          NaN  \n",
       "2011               NaN          NaN  \n",
       "2012               NaN          NaN  \n",
       "2013               NaN          NaN  \n",
       "2014               NaN          NaN  \n",
       "2015               NaN          NaN  \n",
       "2016               NaN          NaN  \n",
       "2017               NaN          NaN  \n",
       "2018               5.0          NaN  \n",
       "2019               NaN          6.0  "
      ]
     },
     "execution_count": 16,
     "metadata": {},
     "output_type": "execute_result"
    }
   ],
   "source": [
    "genres_year = df[['top genre', 'top year']]\n",
    "genres_year = genres_year.rename(columns={'top year':'top_year'})\n",
    "def cont_gen(ds):\n",
    "    years = range(2010, 2020)\n",
    "    y_g = pd.DataFrame()\n",
    "    for i in years:\n",
    "        col = ds[ds.top_year == i]['top genre'].value_counts()\n",
    "        col = col[:3]\n",
    "        col.to_frame()\n",
    "        col = col.rename(str(i))\n",
    "        y_g = y_g.append(col)\n",
    "\n",
    "    return y_g\n",
    "\n",
    "genres_years = cont_gen(genres_year)\n",
    "genres_years"
   ]
  },
  {
   "cell_type": "code",
   "execution_count": 17,
   "id": "0e9d1a2f",
   "metadata": {
    "scrolled": false
   },
   "outputs": [
    {
     "data": {
      "image/png": "[encoded data removed]",
      "text/plain": [
       "<Figure size 720x648 with 1 Axes>"
      ]
     },
     "metadata": {
      "needs_background": "light"
     },
     "output_type": "display_data"
    }
   ],
   "source": [
    "f1 = plt.figure()\n",
    "colors = ['navy','blueviolet', 'lightcoral', 'turquoise', 'orangered', 'deepskyblue', 'olive', 'silver', 'orchid', 'black', 'yellowgreen', 'coral']\n",
    "plt.style.use('seaborn-darkgrid')\n",
    "genres_years.plot(kind='bar', ax=f1.gca(), stacked=True ,figsize=(10,9), color=colors, ylabel='Number of songs in the top', xlabel='Years', title='Most popular genres of the decade')\n",
    "plt.legend(loc='center left', bbox_to_anchor=(1.0, 0.5))\n",
    "plt.show()"
   ]
  },
  {
   "cell_type": "markdown",
   "id": "77b6b27c",
   "metadata": {},
   "source": [
    "Undoubtedly, dance pop has been the dominant genre throughout the decade, with related genres such as pop also remaining relevant. At the start and end of the decade, the alt hip hop genre was also notable. Overall, there is a clear global dominance of the pop genre and its various subgenres throughout the decade."
   ]
  },
  {
   "cell_type": "markdown",
   "id": "369e77e9",
   "metadata": {},
   "source": [
    "# Top 3 Most Energetic Song"
   ]
  },
  {
   "cell_type": "code",
   "execution_count": 18,
   "id": "94b7946d",
   "metadata": {},
   "outputs": [
    {
     "data": {
      "text/plain": [
       "312    98.0\n",
       "70     98.0\n",
       "284    97.0\n",
       "254    97.0\n",
       "88     97.0\n",
       "       ... \n",
       "613    17.0\n",
       "291    16.0\n",
       "448    15.0\n",
       "916    11.0\n",
       "675     6.0\n",
       "Name: nrgy, Length: 1000, dtype: float64"
      ]
     },
     "execution_count": 18,
     "metadata": {},
     "output_type": "execute_result"
    }
   ],
   "source": [
    "df['nrgy'].sort_values(ascending=False)"
   ]
  },
  {
   "cell_type": "code",
   "execution_count": 19,
   "id": "b65c5520",
   "metadata": {
    "scrolled": true
   },
   "outputs": [
    {
     "data": {
      "text/html": [
       "<div>\n",
       "<style scoped>\n",
       "    .dataframe tbody tr th:only-of-type {\n",
       "        vertical-align: middle;\n",
       "    }\n",
       "\n",
       "    .dataframe tbody tr th {\n",
       "        vertical-align: top;\n",
       "    }\n",
       "\n",
       "    .dataframe thead th {\n",
       "        text-align: right;\n",
       "    }\n",
       "</style>\n",
       "<table border=\"1\" class=\"dataframe\">\n",
       "  <thead>\n",
       "    <tr style=\"text-align: right;\">\n",
       "      <th></th>\n",
       "      <th>title</th>\n",
       "      <th>artist</th>\n",
       "      <th>top genre</th>\n",
       "      <th>year released</th>\n",
       "      <th>added</th>\n",
       "      <th>bpm</th>\n",
       "      <th>nrgy</th>\n",
       "      <th>dnce</th>\n",
       "      <th>dB</th>\n",
       "      <th>live</th>\n",
       "      <th>val</th>\n",
       "      <th>dur</th>\n",
       "      <th>acous</th>\n",
       "      <th>spch</th>\n",
       "      <th>pop</th>\n",
       "      <th>top year</th>\n",
       "      <th>artist type</th>\n",
       "    </tr>\n",
       "  </thead>\n",
       "  <tbody>\n",
       "    <tr>\n",
       "      <th>70</th>\n",
       "      <td>Riverside</td>\n",
       "      <td>Sidney Samson</td>\n",
       "      <td>dutch house</td>\n",
       "      <td>2009</td>\n",
       "      <td>2022‑02‑17</td>\n",
       "      <td>126.0</td>\n",
       "      <td>98.0</td>\n",
       "      <td>80.0</td>\n",
       "      <td>-2.0</td>\n",
       "      <td>13.0</td>\n",
       "      <td>29.0</td>\n",
       "      <td>321.0</td>\n",
       "      <td>0.0</td>\n",
       "      <td>5.0</td>\n",
       "      <td>42.0</td>\n",
       "      <td>2010</td>\n",
       "      <td>Solo</td>\n",
       "    </tr>\n",
       "    <tr>\n",
       "      <th>312</th>\n",
       "      <td>Get Up (Rattle)</td>\n",
       "      <td>Bingo Players</td>\n",
       "      <td>big room</td>\n",
       "      <td>2013</td>\n",
       "      <td>2020‑06‑11</td>\n",
       "      <td>128.0</td>\n",
       "      <td>98.0</td>\n",
       "      <td>80.0</td>\n",
       "      <td>-3.0</td>\n",
       "      <td>26.0</td>\n",
       "      <td>80.0</td>\n",
       "      <td>167.0</td>\n",
       "      <td>2.0</td>\n",
       "      <td>7.0</td>\n",
       "      <td>61.0</td>\n",
       "      <td>2013</td>\n",
       "      <td>Duo</td>\n",
       "    </tr>\n",
       "    <tr>\n",
       "      <th>284</th>\n",
       "      <td>Bangarang (feat. Sirah)</td>\n",
       "      <td>Skrillex</td>\n",
       "      <td>brostep</td>\n",
       "      <td>2011</td>\n",
       "      <td>2020‑06‑29</td>\n",
       "      <td>110.0</td>\n",
       "      <td>97.0</td>\n",
       "      <td>72.0</td>\n",
       "      <td>-2.0</td>\n",
       "      <td>32.0</td>\n",
       "      <td>58.0</td>\n",
       "      <td>215.0</td>\n",
       "      <td>1.0</td>\n",
       "      <td>20.0</td>\n",
       "      <td>75.0</td>\n",
       "      <td>2012</td>\n",
       "      <td>Solo</td>\n",
       "    </tr>\n",
       "  </tbody>\n",
       "</table>\n",
       "</div>"
      ],
      "text/plain": [
       "                       title         artist    top genre  year released  \\\n",
       "70                 Riverside  Sidney Samson  dutch house           2009   \n",
       "312          Get Up (Rattle)  Bingo Players     big room           2013   \n",
       "284  Bangarang (feat. Sirah)       Skrillex      brostep           2011   \n",
       "\n",
       "          added    bpm  nrgy  dnce   dB  live   val    dur  acous  spch   pop  \\\n",
       "70   2022‑02‑17  126.0  98.0  80.0 -2.0  13.0  29.0  321.0    0.0   5.0  42.0   \n",
       "312  2020‑06‑11  128.0  98.0  80.0 -3.0  26.0  80.0  167.0    2.0   7.0  61.0   \n",
       "284  2020‑06‑29  110.0  97.0  72.0 -2.0  32.0  58.0  215.0    1.0  20.0  75.0   \n",
       "\n",
       "     top year artist type  \n",
       "70       2010        Solo  \n",
       "312      2013         Duo  \n",
       "284      2012        Solo  "
      ]
     },
     "execution_count": 19,
     "metadata": {},
     "output_type": "execute_result"
    }
   ],
   "source": [
    "df.iloc[[70,312,284]]"
   ]
  },
  {
   "cell_type": "markdown",
   "id": "072aa090",
   "metadata": {},
   "source": [
    "Top 3 Most Energetic Songs are Riverside, Get Up (Rattle), and Bangarang (feat.Sirah)"
   ]
  },
  {
   "cell_type": "markdown",
   "id": "042e3b67",
   "metadata": {},
   "source": [
    "# Correlation between artist type and how energetic the song is"
   ]
  },
  {
   "cell_type": "code",
   "execution_count": 20,
   "id": "c7cbb2d1",
   "metadata": {
    "scrolled": true
   },
   "outputs": [
    {
     "data": {
      "text/plain": [
       "<AxesSubplot:xlabel='artist type', ylabel='nrgy'>"
      ]
     },
     "execution_count": 20,
     "metadata": {},
     "output_type": "execute_result"
    },
    {
     "data": {
      "image/png": "[encoded data removed]",
      "text/plain": [
       "<Figure size 1152x360 with 1 Axes>"
      ]
     },
     "metadata": {},
     "output_type": "display_data"
    }
   ],
   "source": [
    "sns.barplot(data = df,\n",
    "            x = 'artist type',\n",
    "            y = 'nrgy',\n",
    "            palette = 'Set3')"
   ]
  },
  {
   "cell_type": "markdown",
   "id": "f7e7613f",
   "metadata": {},
   "source": [
    "All the artist type's songs have similar level of energetic"
   ]
  },
  {
   "cell_type": "markdown",
   "id": "3fc7548b",
   "metadata": {},
   "source": [
    "# The Longest and The Shortest Song"
   ]
  },
  {
   "cell_type": "code",
   "execution_count": 21,
   "id": "dc78ad03",
   "metadata": {},
   "outputs": [
    {
     "data": {
      "text/plain": [
       "955    113.0\n",
       "956    115.0\n",
       "795    119.0\n",
       "896    122.0\n",
       "750    124.0\n",
       "       ...  \n",
       "982    354.0\n",
       "329    354.0\n",
       "873    418.0\n",
       "350    484.0\n",
       "443    688.0\n",
       "Name: dur, Length: 1000, dtype: float64"
      ]
     },
     "execution_count": 21,
     "metadata": {},
     "output_type": "execute_result"
    }
   ],
   "source": [
    "df['dur'].sort_values()"
   ]
  },
  {
   "cell_type": "code",
   "execution_count": 22,
   "id": "d83d9c28",
   "metadata": {
    "scrolled": true
   },
   "outputs": [
    {
     "data": {
      "text/html": [
       "<div>\n",
       "<style scoped>\n",
       "    .dataframe tbody tr th:only-of-type {\n",
       "        vertical-align: middle;\n",
       "    }\n",
       "\n",
       "    .dataframe tbody tr th {\n",
       "        vertical-align: top;\n",
       "    }\n",
       "\n",
       "    .dataframe thead th {\n",
       "        text-align: right;\n",
       "    }\n",
       "</style>\n",
       "<table border=\"1\" class=\"dataframe\">\n",
       "  <thead>\n",
       "    <tr style=\"text-align: right;\">\n",
       "      <th></th>\n",
       "      <th>title</th>\n",
       "      <th>artist</th>\n",
       "      <th>top genre</th>\n",
       "      <th>year released</th>\n",
       "      <th>added</th>\n",
       "      <th>bpm</th>\n",
       "      <th>nrgy</th>\n",
       "      <th>dnce</th>\n",
       "      <th>dB</th>\n",
       "      <th>live</th>\n",
       "      <th>val</th>\n",
       "      <th>dur</th>\n",
       "      <th>acous</th>\n",
       "      <th>spch</th>\n",
       "      <th>pop</th>\n",
       "      <th>top year</th>\n",
       "      <th>artist type</th>\n",
       "    </tr>\n",
       "  </thead>\n",
       "  <tbody>\n",
       "    <tr>\n",
       "      <th>955</th>\n",
       "      <td>Old Town Road</td>\n",
       "      <td>Lil Nas X</td>\n",
       "      <td>lgbtq+ hip hop</td>\n",
       "      <td>2019</td>\n",
       "      <td>2020‑06‑22</td>\n",
       "      <td>136.0</td>\n",
       "      <td>53.0</td>\n",
       "      <td>91.0</td>\n",
       "      <td>-6.0</td>\n",
       "      <td>10.0</td>\n",
       "      <td>51.0</td>\n",
       "      <td>113.0</td>\n",
       "      <td>6.0</td>\n",
       "      <td>13.0</td>\n",
       "      <td>80.0</td>\n",
       "      <td>2019</td>\n",
       "      <td>Solo</td>\n",
       "    </tr>\n",
       "    <tr>\n",
       "      <th>443</th>\n",
       "      <td>Not a Bad Thing</td>\n",
       "      <td>Justin Timberlake</td>\n",
       "      <td>dance pop</td>\n",
       "      <td>2013</td>\n",
       "      <td>2020‑06‑10</td>\n",
       "      <td>86.0</td>\n",
       "      <td>56.0</td>\n",
       "      <td>31.0</td>\n",
       "      <td>-9.0</td>\n",
       "      <td>13.0</td>\n",
       "      <td>11.0</td>\n",
       "      <td>688.0</td>\n",
       "      <td>53.0</td>\n",
       "      <td>7.0</td>\n",
       "      <td>61.0</td>\n",
       "      <td>2014</td>\n",
       "      <td>Solo</td>\n",
       "    </tr>\n",
       "  </tbody>\n",
       "</table>\n",
       "</div>"
      ],
      "text/plain": [
       "               title             artist       top genre  year released  \\\n",
       "955    Old Town Road          Lil Nas X  lgbtq+ hip hop           2019   \n",
       "443  Not a Bad Thing  Justin Timberlake       dance pop           2013   \n",
       "\n",
       "          added    bpm  nrgy  dnce   dB  live   val    dur  acous  spch   pop  \\\n",
       "955  2020‑06‑22  136.0  53.0  91.0 -6.0  10.0  51.0  113.0    6.0  13.0  80.0   \n",
       "443  2020‑06‑10   86.0  56.0  31.0 -9.0  13.0  11.0  688.0   53.0   7.0  61.0   \n",
       "\n",
       "     top year artist type  \n",
       "955      2019        Solo  \n",
       "443      2014        Solo  "
      ]
     },
     "execution_count": 22,
     "metadata": {},
     "output_type": "execute_result"
    }
   ],
   "source": [
    "df.iloc[[955,443]]"
   ]
  },
  {
   "cell_type": "code",
   "execution_count": 33,
   "id": "e858707c",
   "metadata": {},
   "outputs": [],
   "source": [
    "long_short = df.iloc[[955,443]]"
   ]
  },
  {
   "cell_type": "markdown",
   "id": "f05b750f",
   "metadata": {},
   "source": [
    "The longest song is Old Town Road by Lil Nas X whereas The shortest song is Not a Bad Thing by Justin Timberlake"
   ]
  },
  {
   "cell_type": "markdown",
   "id": "1ef533fc",
   "metadata": {},
   "source": [
    "# Most Artist Type of Songs"
   ]
  },
  {
   "cell_type": "code",
   "execution_count": 23,
   "id": "61547698",
   "metadata": {},
   "outputs": [
    {
     "data": {
      "text/plain": [
       "artist type\n",
       "Solo          748\n",
       "Band/Group    169\n",
       "Duo            70\n",
       "Trio           13\n",
       "Name: artist type, dtype: int64"
      ]
     },
     "execution_count": 23,
     "metadata": {},
     "output_type": "execute_result"
    }
   ],
   "source": [
    "df.groupby('artist type')['artist type'].count().sort_values(ascending=False)"
   ]
  },
  {
   "cell_type": "code",
   "execution_count": 24,
   "id": "1c8ee7ab",
   "metadata": {
    "scrolled": true
   },
   "outputs": [
    {
     "data": {
      "image/png": "[encoded data removed]",
      "text/plain": [
       "<Figure size 1152x360 with 1 Axes>"
      ]
     },
     "metadata": {},
     "output_type": "display_data"
    }
   ],
   "source": [
    "sns.set(style='darkgrid')\n",
    "\n",
    "plt.title('Artist type-Top song 2010-2019',fontsize=15, fontweight='bold',loc='left')\n",
    "ax=sns.countplot(data=df, x='artist type',palette='RdYlGn')\n",
    "for i in ax.containers:\n",
    "    ax.bar_label(i)"
   ]
  },
  {
   "cell_type": "markdown",
   "id": "5399d94e",
   "metadata": {},
   "source": [
    "The most artist type of Top 100 Spotify Songs is Solo"
   ]
  },
  {
   "cell_type": "markdown",
   "id": "3da181ff",
   "metadata": {},
   "source": [
    "# Correlation between the artist type and the popularity of the song"
   ]
  },
  {
   "cell_type": "code",
   "execution_count": 25,
   "id": "2200d221",
   "metadata": {
    "scrolled": true
   },
   "outputs": [
    {
     "data": {
      "image/png": "[encoded data removed]",
      "text/plain": [
       "<Figure size 864x432 with 1 Axes>"
      ]
     },
     "metadata": {},
     "output_type": "display_data"
    }
   ],
   "source": [
    "plt.figure(figsize = (12,6))\n",
    "sns.boxplot(data = df,\n",
    "            x = df['artist type'],   \n",
    "            y = df['pop'],           \n",
    "            palette = 'BuPu');"
   ]
  },
  {
   "cell_type": "markdown",
   "id": "91d516bd",
   "metadata": {},
   "source": [
    "# Correlation between the artist type and the bpm"
   ]
  },
  {
   "cell_type": "code",
   "execution_count": 26,
   "id": "a8128021",
   "metadata": {
    "scrolled": true
   },
   "outputs": [
    {
     "data": {
      "image/png": "[encoded data removed]",
      "text/plain": [
       "<Figure size 864x504 with 1 Axes>"
      ]
     },
     "metadata": {},
     "output_type": "display_data"
    }
   ],
   "source": [
    "plt.figure(figsize = (12,7))\n",
    "sns.kdeplot(df['bpm'], \n",
    "            hue = df['artist type'],\n",
    "            palette = 'Set2');"
   ]
  },
  {
   "cell_type": "markdown",
   "id": "9004a3a3",
   "metadata": {},
   "source": [
    "Using the 'hue' function to categorize, we can observe varying distributions of artist types across different beats per minute (bpm) ranges. One notable finding is that songs by duos, groups, and trios tend to have similar bpm ranges, while those by solo singers tend to have much higher bpm compared to other types of artists."
   ]
  },
  {
   "cell_type": "markdown",
   "id": "67a9cd25",
   "metadata": {},
   "source": [
    "# Songs that has the highest BPM"
   ]
  },
  {
   "cell_type": "code",
   "execution_count": 27,
   "id": "70229529",
   "metadata": {},
   "outputs": [
    {
     "data": {
      "text/plain": [
       "563    206.0\n",
       "109    206.0\n",
       "898    204.0\n",
       "227    202.0\n",
       "969    202.0\n",
       "       ...  \n",
       "854     72.0\n",
       "279     72.0\n",
       "992     69.0\n",
       "38      65.0\n",
       "896     65.0\n",
       "Name: bpm, Length: 1000, dtype: float64"
      ]
     },
     "execution_count": 27,
     "metadata": {},
     "output_type": "execute_result"
    }
   ],
   "source": [
    "df['bpm'].sort_values(ascending=False)"
   ]
  },
  {
   "cell_type": "code",
   "execution_count": 28,
   "id": "735f20c2",
   "metadata": {
    "scrolled": true
   },
   "outputs": [
    {
     "data": {
      "text/html": [
       "<div>\n",
       "<style scoped>\n",
       "    .dataframe tbody tr th:only-of-type {\n",
       "        vertical-align: middle;\n",
       "    }\n",
       "\n",
       "    .dataframe tbody tr th {\n",
       "        vertical-align: top;\n",
       "    }\n",
       "\n",
       "    .dataframe thead th {\n",
       "        text-align: right;\n",
       "    }\n",
       "</style>\n",
       "<table border=\"1\" class=\"dataframe\">\n",
       "  <thead>\n",
       "    <tr style=\"text-align: right;\">\n",
       "      <th></th>\n",
       "      <th>title</th>\n",
       "      <th>artist</th>\n",
       "      <th>top genre</th>\n",
       "      <th>year released</th>\n",
       "      <th>added</th>\n",
       "      <th>bpm</th>\n",
       "      <th>nrgy</th>\n",
       "      <th>dnce</th>\n",
       "      <th>dB</th>\n",
       "      <th>live</th>\n",
       "      <th>val</th>\n",
       "      <th>dur</th>\n",
       "      <th>acous</th>\n",
       "      <th>spch</th>\n",
       "      <th>pop</th>\n",
       "      <th>top year</th>\n",
       "      <th>artist type</th>\n",
       "    </tr>\n",
       "  </thead>\n",
       "  <tbody>\n",
       "    <tr>\n",
       "      <th>563</th>\n",
       "      <td>FourFiveSeconds</td>\n",
       "      <td>Rihanna</td>\n",
       "      <td>barbadian pop</td>\n",
       "      <td>2015</td>\n",
       "      <td>2020‑06‑19</td>\n",
       "      <td>206.0</td>\n",
       "      <td>27.0</td>\n",
       "      <td>58.0</td>\n",
       "      <td>-6.0</td>\n",
       "      <td>13.0</td>\n",
       "      <td>35.0</td>\n",
       "      <td>188.0</td>\n",
       "      <td>88.0</td>\n",
       "      <td>5.0</td>\n",
       "      <td>82.0</td>\n",
       "      <td>2015</td>\n",
       "      <td>Solo</td>\n",
       "    </tr>\n",
       "  </tbody>\n",
       "</table>\n",
       "</div>"
      ],
      "text/plain": [
       "               title   artist      top genre  year released       added  \\\n",
       "563  FourFiveSeconds  Rihanna  barbadian pop           2015  2020‑06‑19   \n",
       "\n",
       "       bpm  nrgy  dnce   dB  live   val    dur  acous  spch   pop  top year  \\\n",
       "563  206.0  27.0  58.0 -6.0  13.0  35.0  188.0   88.0   5.0  82.0      2015   \n",
       "\n",
       "    artist type  \n",
       "563        Solo  "
      ]
     },
     "execution_count": 28,
     "metadata": {},
     "output_type": "execute_result"
    }
   ],
   "source": [
    "df.iloc[[563]]"
   ]
  },
  {
   "cell_type": "markdown",
   "id": "7406ef6f",
   "metadata": {},
   "source": [
    "Songs that has the highest BPM is FourFiveSeconds by Rihanna"
   ]
  },
  {
   "cell_type": "markdown",
   "id": "21c5b46c",
   "metadata": {},
   "source": [
    "# Songs with the most Dancebility"
   ]
  },
  {
   "cell_type": "code",
   "execution_count": 29,
   "id": "d9c9b288",
   "metadata": {},
   "outputs": [
    {
     "data": {
      "text/plain": [
       "461    96.0\n",
       "856    96.0\n",
       "923    95.0\n",
       "750    94.0\n",
       "705    94.0\n",
       "       ... \n",
       "443    31.0\n",
       "65     31.0\n",
       "453    28.0\n",
       "521    26.0\n",
       "355    19.0\n",
       "Name: dnce, Length: 1000, dtype: float64"
      ]
     },
     "execution_count": 29,
     "metadata": {},
     "output_type": "execute_result"
    }
   ],
   "source": [
    "df['dnce'].sort_values(ascending=False)"
   ]
  },
  {
   "cell_type": "code",
   "execution_count": 30,
   "id": "198e26ec",
   "metadata": {
    "scrolled": true
   },
   "outputs": [
    {
     "data": {
      "text/html": [
       "<div>\n",
       "<style scoped>\n",
       "    .dataframe tbody tr th:only-of-type {\n",
       "        vertical-align: middle;\n",
       "    }\n",
       "\n",
       "    .dataframe tbody tr th {\n",
       "        vertical-align: top;\n",
       "    }\n",
       "\n",
       "    .dataframe thead th {\n",
       "        text-align: right;\n",
       "    }\n",
       "</style>\n",
       "<table border=\"1\" class=\"dataframe\">\n",
       "  <thead>\n",
       "    <tr style=\"text-align: right;\">\n",
       "      <th></th>\n",
       "      <th>title</th>\n",
       "      <th>artist</th>\n",
       "      <th>top genre</th>\n",
       "      <th>year released</th>\n",
       "      <th>added</th>\n",
       "      <th>bpm</th>\n",
       "      <th>nrgy</th>\n",
       "      <th>dnce</th>\n",
       "      <th>dB</th>\n",
       "      <th>live</th>\n",
       "      <th>val</th>\n",
       "      <th>dur</th>\n",
       "      <th>acous</th>\n",
       "      <th>spch</th>\n",
       "      <th>pop</th>\n",
       "      <th>top year</th>\n",
       "      <th>artist type</th>\n",
       "    </tr>\n",
       "  </thead>\n",
       "  <tbody>\n",
       "    <tr>\n",
       "      <th>461</th>\n",
       "      <td>Anaconda</td>\n",
       "      <td>Nicki Minaj</td>\n",
       "      <td>dance pop</td>\n",
       "      <td>2014</td>\n",
       "      <td>2020‑06‑10</td>\n",
       "      <td>130.0</td>\n",
       "      <td>61.0</td>\n",
       "      <td>96.0</td>\n",
       "      <td>-6.0</td>\n",
       "      <td>21.0</td>\n",
       "      <td>65.0</td>\n",
       "      <td>260.0</td>\n",
       "      <td>7.0</td>\n",
       "      <td>18.0</td>\n",
       "      <td>70.0</td>\n",
       "      <td>2014</td>\n",
       "      <td>Solo</td>\n",
       "    </tr>\n",
       "  </tbody>\n",
       "</table>\n",
       "</div>"
      ],
      "text/plain": [
       "        title       artist  top genre  year released       added    bpm  nrgy  \\\n",
       "461  Anaconda  Nicki Minaj  dance pop           2014  2020‑06‑10  130.0  61.0   \n",
       "\n",
       "     dnce   dB  live   val    dur  acous  spch   pop  top year artist type  \n",
       "461  96.0 -6.0  21.0  65.0  260.0    7.0  18.0  70.0      2014        Solo  "
      ]
     },
     "execution_count": 30,
     "metadata": {},
     "output_type": "execute_result"
    }
   ],
   "source": [
    "df.iloc[[461]]"
   ]
  },
  {
   "cell_type": "markdown",
   "id": "00e321f7",
   "metadata": {},
   "source": [
    "Song with the most Dancebility is Anaconda by Nicki Minaj"
   ]
  },
  {
   "cell_type": "markdown",
   "id": "64c90595",
   "metadata": {},
   "source": [
    "# Correlation between the dancebility and the artist type"
   ]
  },
  {
   "cell_type": "code",
   "execution_count": 31,
   "id": "8a864d2c",
   "metadata": {
    "scrolled": true
   },
   "outputs": [
    {
     "data": {
      "text/plain": [
       "<AxesSubplot:xlabel='artist type', ylabel='dnce'>"
      ]
     },
     "execution_count": 31,
     "metadata": {},
     "output_type": "execute_result"
    },
    {
     "data": {
      "image/png": "[encoded data removed]",
      "text/plain": [
       "<Figure size 1152x360 with 1 Axes>"
      ]
     },
     "metadata": {},
     "output_type": "display_data"
    }
   ],
   "source": [
    "sns.barplot(data = df, \n",
    "            x = 'artist type',       \n",
    "            y = 'dnce',            \n",
    "            ci = None,                \n",
    "            estimator = np.sum,      \n",
    "            order = ['Duo', 'Trio', 'Solo', 'Band'],   \n",
    "            palette = 'BuGn_r')"
   ]
  },
  {
   "cell_type": "markdown",
   "id": "c1791d36",
   "metadata": {},
   "source": [
    "Songs with the high dancebility are mostly produced by Solo type of artist"
   ]
  },
  {
   "cell_type": "markdown",
   "id": "6449c513",
   "metadata": {},
   "source": [
    "# Correlation between the stats of the songs"
   ]
  },
  {
   "cell_type": "code",
   "execution_count": 40,
   "id": "d1b6a14e",
   "metadata": {
    "scrolled": false
   },
   "outputs": [
    {
     "data": {
      "image/png": "[encoded data removed]",
      "text/plain": [
       "<Figure size 720x720 with 2 Axes>"
      ]
     },
     "metadata": {},
     "output_type": "display_data"
    }
   ],
   "source": [
    "plt.figure(figsize=(10,10))\n",
    "sns.heatmap(df[['bpm','nrgy','dnce','live','val','dur','acous','spch','pop']].corr(), annot = True, linewidths=0, cmap = 'viridis', xticklabels = True)\n",
    "plt.savefig(os.path.join('corr.jpg'), dpi=300, format='jpg')"
   ]
  },
  {
   "cell_type": "markdown",
   "id": "3bd9130f",
   "metadata": {},
   "source": [
    "From the heatmap above, we can see that there are :\n",
    "- high correlation between how acoustic the song is and how energetic the song is. \n",
    "- high correlation between how energetic the song is and how positive the mood of the song is"
   ]
  },
  {
   "cell_type": "code",
   "execution_count": null,
   "id": "6ff7e019",
   "metadata": {},
   "outputs": [],
   "source": []
  }
 ],
 "metadata": {
  "kernelspec": {
   "display_name": "Python 3 (ipykernel)",
   "language": "python",
   "name": "python3"
  },
  "language_info": {
   "codemirror_mode": {
    "name": "ipython",
    "version": 3
   },
   "file_extension": ".py",
   "mimetype": "text/x-python",
   "name": "python",
   "nbconvert_exporter": "python",
   "pygments_lexer": "ipython3",
   "version": "3.9.7"
  }
 },
 "nbformat": 4,
 "nbformat_minor": 5
}
